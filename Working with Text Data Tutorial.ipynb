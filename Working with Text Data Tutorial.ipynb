{
 "cells": [
  {
   "cell_type": "markdown",
   "metadata": {},
   "source": [
    "This is a brief introduction to Scikit-Learn and supervised learning for classification. See the [original tutorial](http://scikit-learn.org/stable/tutorial/text_analytics/working_with_text_data.html) for more information."
   ]
  },
  {
   "cell_type": "code",
   "execution_count": 26,
   "metadata": {},
   "outputs": [],
   "source": [
    "# Load some online text datasets.\n",
    "categories = ['alt.atheism', 'soc.religion.christian', 'comp.graphics', 'sci.med']\n",
    "from sklearn.datasets import fetch_20newsgroups\n",
    "twenty_train = fetch_20newsgroups(subset='train', categories=categories, shuffle=True, random_state=42)"
   ]
  },
  {
   "cell_type": "markdown",
   "metadata": {},
   "source": [
    "The dataset has some useful properties:\n",
    "* data, a list of documents as strings.\n",
    "* target, a list of indexes referring to the category.\n",
    "* target_names, the list of categories.\n",
    "* filenames, a list of where each document is stored on the filesystem."
   ]
  },
  {
   "cell_type": "code",
   "execution_count": 37,
   "metadata": {},
   "outputs": [
    {
     "name": "stdout",
     "output_type": "stream",
     "text": [
      "2257 training documents, 2257 training targets\n",
      "Categories are ['alt.atheism', 'comp.graphics', 'sci.med', 'soc.religion.christian']\n",
      "\n",
      "---\n",
      "\n",
      "Filename: /Users/mmorrisp/scikit_learn_data/20news_home/20news-bydate-train/comp.graphics/38440\n",
      "Category: comp.graphics\n",
      "\n",
      "From: sd345@city.ac.uk (Michael Collier)\n",
      "Subject: Converting images to HP LaserJet III?\n",
      "Nntp-Posting-Host: hampton\n",
      "Organization: The City University\n",
      "Lines: 14\n",
      "\n",
      "Does anyone know of a good way (standard PC application/PD utility) to\n",
      "convert tif/img/tga files into LaserJet III format.  We would also like to\n",
      "do the same, converting to HPGL (HP plotter) files.\n",
      "\n",
      "Please email any response.\n",
      "\n",
      "Is this the correct group?\n",
      "\n",
      "Thanks in advance.  Michael.\n",
      "-- \n",
      "Michael Collier (Programmer)                 The Computer Unit,\n",
      "Email: M.P.Collier@uk.ac.city                The City University,\n",
      "Tel: 071 477-8000 x3769                      London,\n",
      "Fax: 071 477-8565                            EC1V 0HB.\n",
      "\n"
     ]
    }
   ],
   "source": [
    "print(\"%i training documents, %i training targets\" % (len(twenty_train.data), len(twenty_train.target)))\n",
    "print(\"Categories are \" + str(twenty_train.target_names))\n",
    "print(\"\\n---\\n\")\n",
    "print(\"Filename: %s\" % twenty_train.filenames[0])\n",
    "print(\"Category: %s\" % twenty_train.target_names[twenty_train.target[0]])\n",
    "print()\n",
    "print(twenty_train.data[0])"
   ]
  },
  {
   "cell_type": "code",
   "execution_count": 42,
   "metadata": {},
   "outputs": [
    {
     "name": "stdout",
     "output_type": "stream",
     "text": [
      "Matrix has shape (2257, 35788)\n",
      "<class 'scipy.sparse.csr.csr_matrix'>\n",
      "The sparse matrix is mostly zeroes [[0 0 0 ..., 0 0 0]]\n"
     ]
    }
   ],
   "source": [
    "# Convert every document into a count of word occurrences.\n",
    "\n",
    "from sklearn.feature_extraction.text import CountVectorizer\n",
    "count_vect = CountVectorizer()\n",
    "X_train_counts = count_vect.fit_transform(twenty_train.data)\n",
    "print(\"Matrix has shape \" + str(X_train_counts.shape))\n",
    "print(type(X_train_counts))\n",
    "print(\"The sparse matrix is mostly zeroes: %s\" % X_train_counts.todense()[0])"
   ]
  },
  {
   "cell_type": "code",
   "execution_count": null,
   "metadata": {
    "collapsed": true
   },
   "outputs": [],
   "source": []
  }
 ],
 "metadata": {
  "kernelspec": {
   "display_name": "Python 3",
   "language": "python",
   "name": "python3"
  },
  "language_info": {
   "codemirror_mode": {
    "name": "ipython",
    "version": 3
   },
   "file_extension": ".py",
   "mimetype": "text/x-python",
   "name": "python",
   "nbconvert_exporter": "python",
   "pygments_lexer": "ipython3",
   "version": "3.6.3"
  }
 },
 "nbformat": 4,
 "nbformat_minor": 2
}
